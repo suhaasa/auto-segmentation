{
 "cells": [
  {
   "cell_type": "markdown",
   "metadata": {},
   "source": [
    "# Set up"
   ]
  },
  {
   "cell_type": "raw",
   "metadata": {},
   "source": [
    "- To run on your personal computer please see https://christophkirst.github.io/ClearMap2Documentation/html/installation.html for installation of ClearMap\n",
    "    - We recommend using the ClearMap_stable.yml to create your conda environment\n",
    "- Right now this code is only tested in Linux\n",
    "- To sign into Linux on the lab computer where ClearMap is already installed...\n",
    "    1. Restart the computer\n",
    "    2. Hold down F11 to enter the boot menu\n",
    "    3. Select Ubuntu\n",
    "    4. Select Ubuntu again\n",
    "    5. Password = kristy!\n",
    "    6. Open up the terminal app and entter the following:\n",
    "        7. >> conda activate ClearMap_working\n",
    "        8. >> jupyter notebook\n",
    "    9. Open your copy of this template in jupyter notebook\n",
    "    10. Enter your variables and run the following code"
   ]
  },
  {
   "cell_type": "code",
   "execution_count": null,
   "metadata": {},
   "outputs": [],
   "source": [
    "#Required Variables\n",
    "ClearMapPath = 'path' #the location of the ClearMap2 folder\n",
    "ProjectPath = 'path' # choose a parent folder to house your folder of images saved from this run of the program\n",
    "folder ='FolderName'#name of folder for this experiment (set to None for automated folder named with today's date)\n",
    "filename = 'filename.npy/tif' # set to your original npy or tif file\n",
    "name = 'name' #appends the name to the end of all generated files\n"
   ]
  },
  {
   "cell_type": "code",
   "execution_count": null,
   "metadata": {},
   "outputs": [],
   "source": [
    "#Optional Parameters\n",
    "\n",
    "#Arterial Binarization Variables\n",
    "minimum = 400 # minimum pixel value of vessels in your image - any pixel below this value will not be a vessel\n",
    "maximum = 60000 # maximum pixel value of vessels in your image - any pixel above this value will be a vessel\n",
    "equalize = False # set to True if you would like to turn equalize on\n",
    "vesselize = False # set to True if you would like to turn vesselize on\n",
    "\n",
    "#Vessel Filling Variables\n",
    "filling_threshold = .5  #changes the probablity of a pixel being filled in (higher is more pixels)\n",
    "# we recommend you set this to .5\n",
    "\n",
    "#Graphing Variables\n"
   ]
  },
  {
   "cell_type": "code",
   "execution_count": null,
   "metadata": {},
   "outputs": [],
   "source": [
    "# import required packages\n",
    "import os\n",
    "os.chdir(ClearMapPath)\n",
    "from ClearMap.Environment import * \n",
    "%gui qt\n",
    "from datetime import date\n",
    "import shutil\n"
   ]
  },
  {
   "cell_type": "code",
   "execution_count": null,
   "metadata": {},
   "outputs": [],
   "source": [
    "# create an output folder\n",
    "today = date.today()\n",
    "out = today.strftime(\"%m%d%y\")\n",
    "if folder is None:\n",
    "    path = os.path.join(ProjectPath, out)\n",
    "else:\n",
    "    path = os.path.join(ProjectPath, folder)\n",
    "os.makedirs(path)\n",
    "print(\"The path to your images is\", path)\n"
   ]
  },
  {
   "cell_type": "code",
   "execution_count": 1,
   "metadata": {},
   "outputs": [
    {
     "ename": "SyntaxError",
     "evalue": "invalid syntax (<ipython-input-1-7201c0ec8173>, line 3)",
     "output_type": "error",
     "traceback": [
      "\u001b[0;36m  File \u001b[0;32m\"<ipython-input-1-7201c0ec8173>\"\u001b[0;36m, line \u001b[0;32m3\u001b[0m\n\u001b[0;31m    if filename[-1] = f:\u001b[0m\n\u001b[0m                    ^\u001b[0m\n\u001b[0;31mSyntaxError\u001b[0m\u001b[0;31m:\u001b[0m invalid syntax\n"
     ]
    }
   ],
   "source": [
    "# INITIALIZE WORKSPACE\n",
    "\n",
    "directory = ProjectPath\n",
    "\n",
    "expression_raw  = filename \n",
    "\n",
    "expression_arteries = filename \n",
    "\n",
    "expression_auto     = filename \n",
    "\n",
    "resources_directory = settings.resources_path\n",
    "\n",
    "ws = wsp.Workspace('TubeMap', directory=directory);\n",
    "ws.update(raw=expression_raw, arteries=expression_arteries, autofluorescence=expression_auto)\n",
    "ws.info()\n",
    "\n",
    "ws.filename('raw')\n",
    "\n",
    "ws.file_list('raw')\n",
    "\n",
    "s = ws.source('raw')\n",
    "\n",
    "\n",
    "# converts tif to npy\n",
    "if os.path.exists(os.path.join(ProjectPath, filename[-3] +'npy')):\n",
    "    file.npy = filename[-3] +'npy'\n",
    "\n",
    "else:\n",
    "    \n",
    "    if filename[-1] == 'y':\n",
    "        file_npy = filename\n",
    "\n",
    "    if filename[-1] == 'f':\n",
    "        print(\"You inputed an tif file. Converting tif to npy.\")\n",
    "        io.convert_files(ws.file_list('raw', extension='tif'), extension='npy',\n",
    "                     processes=12, verbose=True);\n",
    "        filename = filename[:-3]\n",
    "        file_npy = filename+'npy'\n",
    "        print(\"Your file is now a npy named\" + file_npy)\n",
    "\n",
    "directory = ProjectPath\n",
    "\n",
    "expression_raw  = file_npy \n",
    "\n",
    "expression_arteries = file_npy \n",
    "\n",
    "expression_auto = file_npy \n",
    "\n",
    "resources_directory = settings.resources_path\n",
    "ws = wsp.Workspace('TubeMap', directory=directory);\n",
    "ws.update(raw=expression_raw, arteries=expression_arteries, autofluorescence=expression_auto)\n",
    "ws.info()\n",
    "\n",
    "ws.filename('raw')\n",
    "\n",
    "ws.file_list('raw')\n",
    "\n",
    "s = ws.source('raw')"
   ]
  },
  {
   "cell_type": "code",
   "execution_count": null,
   "metadata": {},
   "outputs": [],
   "source": [
    "# Use the below code if you would like to test the code on a smaller slice of your image\n",
    "# DO NOT TEST ON LESS THAN 30 SLICES AT A TIME\n",
    "\n",
    "# #%% Crop test data\n",
    "\n",
    "# #select debug mode / test file name\n",
    "# ws.debug = 'slice';\n",
    "\n",
    "# #select sublice for testing the pipeline\n",
    "# slicing = (slice(0,1080),slice(0,1280),slice(70,80));\n",
    "# [ws.create_debug('raw', slicing=slicing)]\n",
    "\n",
    "\n",
    "# # save slice image here as tif file \n",
    "# sink = ws.filename('raw')\n",
    "# io.convert_files(sink, extension='tif', processes=12, verbose=True);\n"
   ]
  },
  {
   "cell_type": "markdown",
   "metadata": {},
   "source": [
    "# Image Processing"
   ]
  },
  {
   "cell_type": "code",
   "execution_count": null,
   "metadata": {
    "scrolled": true
   },
   "outputs": [],
   "source": [
    "# ARTERIAL BINARIZATION\n",
    "\n",
    "source = ws.filename('raw');\n",
    "#threshold = 450 # 750 is recommended value for vasculature\n",
    "sink   = ws.filename('binary', postfix='arteries' + name);\n",
    "io.delete_file(sink)\n",
    "\n",
    "binarization_parameter = vasc.default_binarization_parameter.copy();\n",
    "binarization_parameter['clip']['clip_range'] = (minimum,maximum) #set based on min and max pixel values in the image (min, max)\n",
    "# (400,60000) is recommended for vasculature\n",
    "\n",
    "if not equalize:\n",
    "    binarization_parameter['equalize'] = None;\n",
    "if not vesselize:\n",
    "    binarization_parameter['vesselize'] = None;\n",
    "\n",
    "processing_parameter = vasc.default_binarization_processing_parameter.copy();\n",
    "processing_parameter.update(processes = 20,\n",
    "                            as_memory = True, verbose=True);\n",
    "\n",
    "vasc.binarize(source, sink,\n",
    "              binarization_parameter=binarization_parameter,\n",
    "              processing_parameter=processing_parameter);\n",
    "\n",
    "\n",
    "# save binary image here as tif file \n",
    "io.convert_files(sink, extension='tif', processes=12, verbose=True);\n"
   ]
  },
  {
   "cell_type": "code",
   "execution_count": null,
   "metadata": {},
   "outputs": [],
   "source": [
    "#ARTERIAL BINARIZATION continued\n",
    "\n",
    "source = ws.filename('binary', postfix='arteries' + name);\n",
    "sink   = ws.filename('binary', postfix='arteries_postprocessed' + name);\n",
    "sink_smooth = ws.filename('binary', postfix='arteries_smoothed' + name);\n",
    "\n",
    "postprocessing_parameter = vasc.default_postprocessing_parameter.copy();\n",
    "postprocessing_parameter['smooth'] = dict(iterations=6) #default is 6\n",
    "\n",
    "postprocessing_processing_parameter = vasc.default_postprocessing_processing_parameter.copy();\n",
    "postprocessing_processing_parameter.update(size_max = 50);\n",
    "\n",
    "vasc.postprocess(source, sink, postprocessing_parameter=postprocessing_parameter,\n",
    "                 processing_parameter=postprocessing_processing_parameter,\n",
    "                 processes=None, verbose=True)\n",
    "\n",
    "# save postprocessed binary image here\n",
    "io.convert_files(sink, extension='tif', processes=None, verbose=True);\n"
   ]
  },
  {
   "cell_type": "code",
   "execution_count": null,
   "metadata": {},
   "outputs": [],
   "source": [
    "# VESSEL FILLING\n",
    "\n",
    "source = ws.filename('binary', postfix='arteries_postprocessed' + name);\n",
    "sink   = ws.filename('binary', postfix='arteries_filled_threshold' + name);\n",
    "io.delete_file(sink)\n",
    "\n",
    "processing_parameter = vf.default_fill_vessels_processing_parameter.copy();\n",
    "processing_parameter.update(size_max = 200,\n",
    "                            size_min = 'fixed',\n",
    "                            axes = all,\n",
    "                            overlap = 50);\n",
    "\n",
    "vf.fill_vessels(source, sink,\n",
    "                resample=1, threshold= filling_threshold, cuda=None, \n",
    "                #default threshold is 0.5 - set above in Vessel Filling Variables\n",
    "                processing_parameter=processing_parameter, verbose=True)\n",
    "\n",
    "# processing_parameter = vf.default_fill_vessels_processing_parameter.copy()\n",
    "# processing_parameter.update(size_max = 1000,\n",
    "#                             size_min = 'fixed',\n",
    "#                             axes = all,\n",
    "#                             overlap = 100);\n",
    "\n",
    "# processing_parameter['processes'] = 1\n",
    "\n",
    "# vf.fill_vessels(source, sink,\n",
    "#                 resample=2, threshold=0.5, cuda=None,\n",
    "#                 processing_parameter=processing_parameter, verbose=True)\n",
    "\n",
    "# save filled image here\n",
    "io.convert_files(sink, extension='tif', processes=None, verbose=True);\n"
   ]
  },
  {
   "cell_type": "markdown",
   "metadata": {},
   "source": [
    "# Graphing"
   ]
  },
  {
   "cell_type": "code",
   "execution_count": null,
   "metadata": {},
   "outputs": [],
   "source": [
    "sink   = ws.filename('binary', postfix='arteries_filled_threshold' + name);\n",
    "io.convert_files(sink, extension='tif', processes=None, verbose=True);\n"
   ]
  },
  {
   "cell_type": "code",
   "execution_count": null,
   "metadata": {},
   "outputs": [],
   "source": [
    "binary   = ws.filename('binary', postfix='arteries_filled_threshold' + name);\n",
    "skeleton = ws.filename('skeleton')\n",
    "\n",
    "skl.skeletonize(binary, sink=skeleton, delete_border=True, verbose=True);\n"
   ]
  },
  {
   "cell_type": "code",
   "execution_count": null,
   "metadata": {},
   "outputs": [],
   "source": [
    "graph_raw = gp.graph_from_skeleton(ws.filename('skeleton'), verbose=True)\n",
    "#graph_raw.save(ws.filename('graph', postfix='raw'))\n"
   ]
  },
  {
   "cell_type": "code",
   "execution_count": null,
   "metadata": {},
   "outputs": [],
   "source": [
    "coordinates = graph_raw.vertex_coordinates();\n",
    "radii, indices = mr.measure_radius(ws.filename('binary', postfix='arteries_filled' + name), coordinates,\n",
    "                                   value=0, fraction=None, max_radius=150,\n",
    "#                                   value=None, fraction=0.8, max_radius=150,\n",
    "                                   return_indices=True, default=-1, verbose=True);\n",
    "graph_raw.set_vertex_radii(radii)\n"
   ]
  },
  {
   "cell_type": "code",
   "execution_count": null,
   "metadata": {},
   "outputs": [],
   "source": [
    "graph_raw.save(ws.filename('graph', postfix='raw'))\n"
   ]
  },
  {
   "cell_type": "code",
   "execution_count": null,
   "metadata": {},
   "outputs": [],
   "source": [
    "# Graph cleaning\n",
    "graph_cleaned = gp.clean_graph(graph_raw,\n",
    "                               vertex_mappings = {'coordinates'   : gp.mean_vertex_coordinates,\n",
    "                                                  'radii'         : np.max,\n",
    "                                                  'artery_binary' : np.max,\n",
    "                                                  'artery_raw'    : np.max},\n",
    "                               verbose=True)\n"
   ]
  },
  {
   "cell_type": "code",
   "execution_count": null,
   "metadata": {},
   "outputs": [],
   "source": [
    "# Save cleaned graph\n",
    "\n",
    "graph_cleaned.save(ws.filename('graph', postfix='cleaned'))\n",
    "#graph_cleaned = grp.load(ws.filename('graph', postfix='cleaned'));\n"
   ]
  },
  {
   "cell_type": "code",
   "execution_count": null,
   "metadata": {},
   "outputs": [],
   "source": [
    "# Graph reduction\n",
    "\n",
    "def vote(expression):\n",
    "  return np.sum(expression) >= len(expression) / 1.5;\n",
    "\n",
    "graph_reduced = gp.reduce_graph(graph_cleaned, edge_length=True,\n",
    "                          edge_to_edge_mappings = {'length' : np.sum},\n",
    "                          vertex_to_edge_mappings={'artery_binary' : vote,\n",
    "                                                   'artery_raw'    : np.max,\n",
    "                                                   'radii'         : np.max},\n",
    "                          edge_geometry_vertex_properties=['coordinates', 'radii', 'artery_binary', 'artery_raw'],\n",
    "                          edge_geometry_edge_properties=None,\n",
    "                          return_maps=False, verbose=True)\n"
   ]
  },
  {
   "cell_type": "code",
   "execution_count": null,
   "metadata": {},
   "outputs": [],
   "source": [
    "# Save reduced graph\n",
    "\n",
    "graph_reduced.save(ws.filename('graph', postfix='reduced'))\n",
    "#graph_reduced = grp.load(ws.filename('graph', postfix='reduced'));\n"
   ]
  },
  {
   "cell_type": "code",
   "execution_count": null,
   "metadata": {},
   "outputs": [],
   "source": [
    "# Graph largests component\n",
    "\n",
    "graph = graph_reduced.largest_component()\n",
    "graph.save(ws.filename('graph', postfix='reduced_largest'))\n"
   ]
  },
  {
   "cell_type": "code",
   "execution_count": null,
   "metadata": {},
   "outputs": [],
   "source": [
    "graph_reduced = grp.load(ws.filename('graph', postfix='reduced_largest'));\n",
    "verticies = graph_reduced.vertex_coordinates()\n",
    "connectivity = graph_reduced.edge_connectivity()\n",
    "radii = graph_reduced.vertex_radii()\n"
   ]
  },
  {
   "cell_type": "code",
   "execution_count": null,
   "metadata": {
    "scrolled": true
   },
   "outputs": [],
   "source": [
    "print(connectivity)\n",
    "print(len(connectivity))\n",
    "print(verticies)\n",
    "print(radii)\n",
    "print(len(radii))\n"
   ]
  },
  {
   "cell_type": "code",
   "execution_count": null,
   "metadata": {},
   "outputs": [],
   "source": [
    "print(max(radii))\n"
   ]
  },
  {
   "cell_type": "code",
   "execution_count": null,
   "metadata": {},
   "outputs": [],
   "source": [
    "import pickle\n",
    "pickle.dump(connectivity, open(path + \"connectivity_reduced.p\", \"wb\" ) )\n",
    "pickle.dump(verticies, open(path + \"verticies_reduced.p\", \"wb\" ) )\n",
    "pickle.dump(radii, open(path + \"radii_reduced.p\", \"wb\" ) )\n"
   ]
  }
 ],
 "metadata": {
  "kernelspec": {
   "display_name": "Python 3",
   "language": "python",
   "name": "python3"
  },
  "language_info": {
   "codemirror_mode": {
    "name": "ipython",
    "version": 3
   },
   "file_extension": ".py",
   "mimetype": "text/x-python",
   "name": "python",
   "nbconvert_exporter": "python",
   "pygments_lexer": "ipython3",
   "version": "3.8.8"
  }
 },
 "nbformat": 4,
 "nbformat_minor": 4
}
